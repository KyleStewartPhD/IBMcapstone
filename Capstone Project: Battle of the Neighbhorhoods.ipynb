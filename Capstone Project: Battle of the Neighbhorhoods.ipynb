{
    "cells": [
        {
            "cell_type": "markdown",
            "metadata": {
                "collapsed": true
            },
            "source": "# Coursera Final Capstone Project: Battle of the Neighborhoods"
        },
        {
            "cell_type": "markdown",
            "metadata": {},
            "source": "### Project Description / Requirements:\n\nThis capstone project will be graded by your peers. This capstone project is worth 70% of your total grade. The project will be completed over the course of 2 weeks. Week 1 submissions will be worth 30% whereas week 2 submissions will be worth 40% of your total grade.\n\n**For this week, you will required to submit the following:**\n\n    A description of the problem and a discussion of the background. (15 marks)\n    A description of the data and how it will be used to solve the problem. (15 marks)\n\n**For the second week, the final deliverables of the project will be:**\n\n    A link to your Notebook on your Github repository, showing your code. (15 marks)\n    A full report consisting of all of the following components (15 marks):\n\n    Introduction where you discuss the business problem and who would be interested in this project.\n    Data where you describe the data that will be used to solve the problem and the source of the data.\n    Methodology section which represents the main component of the report where you discuss and describe any exploratory data analysis that you did, any inferential statistical testing that you performed, if any, and what machine learnings were used and why.\n    Results section where you discuss the results.\n    Discussion section where you discuss any observations you noted and any recommendations you can make based on the results.\n    Conclusion section where you conclude the report.\n\n    Your choice of a presentation or blogpost. (10 marks)"
        },
        {
            "cell_type": "markdown",
            "metadata": {},
            "source": "### Background\n\nHypothetical scenario: data scientist, John Doe, currently lives in California, but he finds a remote data science jobs that would allow him to relocate, and California is too expensive.  He hears good things about the neighboring state, Arizona.\n\nBut John Doe really likes the feel of his current neighbhorhood / current town, in terms of venues nearby: parks, stores, restaurants, etc."
        },
        {
            "cell_type": "markdown",
            "metadata": {},
            "source": "### Goal\n\nCreate a notebook that does the following:\n1. Allow an input city for comparision (where John Doe currently lives)\n2. Load a csv file that compiles suburbs in the Phoenix, AZ metropolitan area (created manually from wiki page: https://en.wikipedia.org/wiki/Phoenix_metropolitan_area)\n3. Use FourSquare data to gather venue statistics about both the current input city and ALL Phoenix community cities\n4. Use clustering models to determine which city near Phoenix is most similar to John's current city, as a nice location to move to."
        },
        {
            "cell_type": "markdown",
            "metadata": {},
            "source": "### Data\n\nMost of the data will come from Foursquare API.  Only other data is a csv file created manually, which just lists out all the communities (with population > 10,000) in the Phoenix, AZ metropolitan area.  List originated from: https://en.wikipedia.org/wiki/Phoenix_metropolitan_area\n\nThis csv was constructed manually and saved to github at: https://raw.githubusercontent.com/KyleStewartPhD/IBMcapstone/master/phoenix%20suburbs.csv "
        },
        {
            "cell_type": "code",
            "execution_count": 15,
            "metadata": {},
            "outputs": [
                {
                    "data": {
                        "text/html": "<div>\n<style scoped>\n    .dataframe tbody tr th:only-of-type {\n        vertical-align: middle;\n    }\n\n    .dataframe tbody tr th {\n        vertical-align: top;\n    }\n\n    .dataframe thead th {\n        text-align: right;\n    }\n</style>\n<table border=\"1\" class=\"dataframe\">\n  <thead>\n    <tr style=\"text-align: right;\">\n      <th></th>\n      <th>City</th>\n      <th>Population</th>\n    </tr>\n  </thead>\n  <tbody>\n    <tr>\n      <th>0</th>\n      <td>Phoenix</td>\n      <td>1626078</td>\n    </tr>\n    <tr>\n      <th>1</th>\n      <td>Mesa</td>\n      <td>496401</td>\n    </tr>\n    <tr>\n      <th>2</th>\n      <td>Chandler</td>\n      <td>253458</td>\n    </tr>\n    <tr>\n      <th>3</th>\n      <td>Scottsdale</td>\n      <td>249950</td>\n    </tr>\n    <tr>\n      <th>4</th>\n      <td>Glendale</td>\n      <td>246709</td>\n    </tr>\n    <tr>\n      <th>5</th>\n      <td>Gilbert</td>\n      <td>242354</td>\n    </tr>\n    <tr>\n      <th>6</th>\n      <td>Tempe</td>\n      <td>185038</td>\n    </tr>\n    <tr>\n      <th>7</th>\n      <td>Peoria</td>\n      <td>168181</td>\n    </tr>\n    <tr>\n      <th>8</th>\n      <td>Surprise</td>\n      <td>134085</td>\n    </tr>\n    <tr>\n      <th>9</th>\n      <td>Avondale</td>\n      <td>84025</td>\n    </tr>\n    <tr>\n      <th>10</th>\n      <td>Goodyear</td>\n      <td>79858</td>\n    </tr>\n    <tr>\n      <th>11</th>\n      <td>Buckeye</td>\n      <td>68453</td>\n    </tr>\n    <tr>\n      <th>12</th>\n      <td>Casa Grande</td>\n      <td>55477</td>\n    </tr>\n    <tr>\n      <th>13</th>\n      <td>Maricopa</td>\n      <td>48007</td>\n    </tr>\n    <tr>\n      <th>14</th>\n      <td>Apache Junction</td>\n      <td>40538</td>\n    </tr>\n    <tr>\n      <th>15</th>\n      <td>Queen Creek</td>\n      <td>39184</td>\n    </tr>\n    <tr>\n      <th>16</th>\n      <td>El Mirage</td>\n      <td>35216</td>\n    </tr>\n    <tr>\n      <th>17</th>\n      <td>Florence</td>\n      <td>26074</td>\n    </tr>\n    <tr>\n      <th>18</th>\n      <td>Fountain Hills</td>\n      <td>24583</td>\n    </tr>\n    <tr>\n      <th>19</th>\n      <td>Eloy</td>\n      <td>19168</td>\n    </tr>\n    <tr>\n      <th>20</th>\n      <td>Paradise Valley</td>\n      <td>14293</td>\n    </tr>\n    <tr>\n      <th>21</th>\n      <td>Coolidge</td>\n      <td>12698</td>\n    </tr>\n  </tbody>\n</table>\n</div>",
                        "text/plain": "               City  Population\n0           Phoenix     1626078\n1              Mesa      496401\n2          Chandler      253458\n3        Scottsdale      249950\n4          Glendale      246709\n5           Gilbert      242354\n6             Tempe      185038\n7            Peoria      168181\n8          Surprise      134085\n9          Avondale       84025\n10         Goodyear       79858\n11          Buckeye       68453\n12      Casa Grande       55477\n13         Maricopa       48007\n14  Apache Junction       40538\n15      Queen Creek       39184\n16        El Mirage       35216\n17         Florence       26074\n18   Fountain Hills       24583\n19             Eloy       19168\n20  Paradise Valley       14293\n21         Coolidge       12698"
                    },
                    "execution_count": 15,
                    "metadata": {},
                    "output_type": "execute_result"
                }
            ],
            "source": "import pandas as pd\n\naz_cities_url = 'https://raw.githubusercontent.com/KyleStewartPhD/IBMcapstone/master/phoenix%20suburbs.csv'\naz_cities = pd.read_csv(az_cities_url, thousands=',')  #read csv, while turning numbers strings with commas into regular int format\naz_cities"
        },
        {
            "cell_type": "code",
            "execution_count": 14,
            "metadata": {},
            "outputs": [],
            "source": "#These are manual inputs for the starting comparision city.  The city \"John Doe\" currently lives in, in the description\nmy_city = \"Rancho Cucamonga\"\nmy_state = \"CA\"\nmy_pop = 177751"
        },
        {
            "cell_type": "markdown",
            "metadata": {},
            "source": "#### Import all the libraries we're going to use"
        },
        {
            "cell_type": "code",
            "execution_count": 18,
            "metadata": {},
            "outputs": [
                {
                    "name": "stdout",
                    "output_type": "stream",
                    "text": "Libraries imported.\n"
                }
            ],
            "source": "import numpy as np # library to handle data in a vectorized manner\n\nimport pandas as pd # library for data analsysis\npd.set_option('display.max_columns', None)\npd.set_option('display.max_rows', None)\n\nimport json # library to handle JSON files\n\n#!conda install -c conda-forge geopy --yes # uncomment this line if you need to install geopy\nfrom geopy.geocoders import Nominatim # convert an address into latitude and longitude values\n\nimport requests # library to handle requests\nfrom pandas.io.json import json_normalize # tranform JSON file into a pandas dataframe\n\n# Matplotlib and associated plotting modules\nimport matplotlib.cm as cm\nimport matplotlib.colors as colors\n\n# import k-means from clustering stage\nfrom sklearn.cluster import KMeans\n\n#!conda install -c conda-forge folium=0.5.0 --yes # uncomment this line if you need to install folium\n#import folium # map rendering library\n\nprint('Libraries imported.')"
        },
        {
            "cell_type": "code",
            "execution_count": null,
            "metadata": {},
            "outputs": [],
            "source": ""
        }
    ],
    "metadata": {
        "kernelspec": {
            "display_name": "Python 3.6",
            "language": "python",
            "name": "python3"
        },
        "language_info": {
            "codemirror_mode": {
                "name": "ipython",
                "version": 3
            },
            "file_extension": ".py",
            "mimetype": "text/x-python",
            "name": "python",
            "nbconvert_exporter": "python",
            "pygments_lexer": "ipython3",
            "version": "3.6.9"
        }
    },
    "nbformat": 4,
    "nbformat_minor": 1
}