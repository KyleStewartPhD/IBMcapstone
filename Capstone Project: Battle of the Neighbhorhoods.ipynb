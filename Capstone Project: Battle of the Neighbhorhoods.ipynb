{
    "cells": [
        {
            "cell_type": "markdown",
            "metadata": {
                "collapsed": true
            },
            "source": "# Coursera Final Capstone Project: Battle of the Neighborhoods"
        },
        {
            "cell_type": "markdown",
            "metadata": {},
            "source": "This capstone project will be graded by your peers. This capstone project is worth 70% of your total grade. The project will be completed over the course of 2 weeks. Week 1 submissions will be worth 30% whereas week 2 submissions will be worth 40% of your total grade.\n\n**For this week, you will required to submit the following:**\n\n    A description of the problem and a discussion of the background. (15 marks)\n    A description of the data and how it will be used to solve the problem. (15 marks)\n\n**For the second week, the final deliverables of the project will be:**\n\n    A link to your Notebook on your Github repository, showing your code. (15 marks)\n    A full report consisting of all of the following components (15 marks):\n\n    Introduction where you discuss the business problem and who would be interested in this project.\n    Data where you describe the data that will be used to solve the problem and the source of the data.\n    Methodology section which represents the main component of the report where you discuss and describe any exploratory data analysis that you did, any inferential statistical testing that you performed, if any, and what machine learnings were used and why.\n    Results section where you discuss the results.\n    Discussion section where you discuss any observations you noted and any recommendations you can make based on the results.\n    Conclusion section where you conclude the report.\n\n    Your choice of a presentation or blogpost. (10 marks)"
        },
        {
            "cell_type": "markdown",
            "metadata": {},
            "source": "### Background\n\nHypothetical scenario: data scientist, John Doe, currently lives in California, but he finds a remote data science jobs that would allow him to relocate, and California is too expensive.  He hears good things about the neighboring state, Arizona.\n\nBut John Doe really likes the feel of his current neighbhorhood / current town, in terms of venues nearby: parks, stores, restaurants, etc."
        },
        {
            "cell_type": "markdown",
            "metadata": {},
            "source": "### Goal\n\nCreate a notebook that does the following:\n1. Allow an input city for comparision (where John Doe currently lives)\n2. Load a csv file that compiles suburbs in the Phoenix, AZ metropolitan area (created manually from wiki page: https://en.wikipedia.org/wiki/Phoenix_metropolitan_area)\n3. Use FourSquare data to gather venue statistics about both the current input city and ALL Phoenix community cities\n4. Use clustering models to determine which city near Phoenix is most similar to John's current city, as a nice location to move to."
        },
        {
            "cell_type": "markdown",
            "metadata": {},
            "source": "### Data\n\nMost of the data will come from Foursquare API.  Only other data is a csv file created manually, which just lists out all the communities (with population > 10,000) in the Phoenix, AZ metropolitan area.  List "
        }
    ],
    "metadata": {
        "kernelspec": {
            "display_name": "Python 3.6",
            "language": "python",
            "name": "python3"
        },
        "language_info": {
            "codemirror_mode": {
                "name": "ipython",
                "version": 3
            },
            "file_extension": ".py",
            "mimetype": "text/x-python",
            "name": "python",
            "nbconvert_exporter": "python",
            "pygments_lexer": "ipython3",
            "version": "3.6.9"
        }
    },
    "nbformat": 4,
    "nbformat_minor": 1
}